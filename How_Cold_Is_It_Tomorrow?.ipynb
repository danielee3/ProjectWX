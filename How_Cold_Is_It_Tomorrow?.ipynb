{
  "nbformat": 4,
  "nbformat_minor": 0,
  "metadata": {
    "colab": {
      "name": "How Cold Is It Tomorrow?.ipynb",
      "provenance": [],
      "collapsed_sections": [],
      "authorship_tag": "ABX9TyMxY72tsISUZjq2jFi4Sxgh",
      "include_colab_link": true
    },
    "kernelspec": {
      "name": "python3",
      "display_name": "Python 3"
    },
    "language_info": {
      "name": "python"
    }
  },
  "cells": [
    {
      "cell_type": "markdown",
      "metadata": {
        "id": "view-in-github",
        "colab_type": "text"
      },
      "source": [
        "<a href=\"https://colab.research.google.com/github/danielee3/ProjectWX/blob/main/How_Cold_Is_It_Tomorrow%3F.ipynb\" target=\"_parent\"><img src=\"https://colab.research.google.com/assets/colab-badge.svg\" alt=\"Open In Colab\"/></a>"
      ]
    },
    {
      "cell_type": "code",
      "metadata": {
        "colab": {
          "base_uri": "https://localhost:8080/"
        },
        "id": "MfI9SirSWLWU",
        "outputId": "ec2b4f7e-5825-4337-dc6f-77a96cf8a74e"
      },
      "source": [
        "from google.colab import drive\n",
        "drive.mount('/content/gdrive')"
      ],
      "execution_count": 3,
      "outputs": [
        {
          "output_type": "stream",
          "text": [
            "Mounted at /content/gdrive\n"
          ],
          "name": "stdout"
        }
      ]
    },
    {
      "cell_type": "code",
      "metadata": {
        "id": "b01CQvcPViWX"
      },
      "source": [
        "import numpy as np\n",
        "import pandas as pd\n",
        "import matplotlib.pyplot as plt\n",
        "import seaborn as sns\n",
        "import tensorflow as tf"
      ],
      "execution_count": 6,
      "outputs": []
    },
    {
      "cell_type": "code",
      "metadata": {
        "id": "zUFNStP8Vt8N"
      },
      "source": [
        "ithaca = pd.read_csv('/content/gdrive/MyDrive/Weather ML Project/RAW DATA/ITH.csv')"
      ],
      "execution_count": 7,
      "outputs": []
    },
    {
      "cell_type": "markdown",
      "metadata": {
        "id": "g1tjPhizWpRU"
      },
      "source": [
        "station: three or four character site identifier\n",
        "\n",
        "valid: timestamp of the observation\n",
        "\n",
        "tmpf: Air Temperature in Fahrenheit, typically @ 2 meters\n",
        "\n",
        "dwpf: Dew Point Temperature in Fahrenheit, typically @ 2 meters\n",
        "\n",
        "relh: Relative Humidity in % \n",
        "\n",
        "drct: Wind Direction in degrees from north \n",
        "\n",
        "sknt: Wind Speed in knots \n",
        "\n",
        "p01i: One hour precipitation for the period from the observation time to the time of the previous hourly precipitation reset. \n",
        "\n",
        "alti: Pressure altimeter in inches\n",
        "\n",
        "mslp: Sea Level Pressure in millibar \n",
        "\n",
        "vsby: Visibility in miles \n",
        "\n",
        "gust: Wind Gust in knots \n",
        "\n",
        "skyc1: Sky Level 1 Coverage \n",
        "\n",
        "skyc2: Sky Level 2 Coverage \n",
        "\n",
        "skyc3: Sky Level 3 Coverage \n",
        "\n",
        "skyc4: Sky Level 4 Coverage\n",
        "\n",
        "skyl1: Sky Level 1 Altitude in feet \n",
        "\n",
        "skyl2: Sky Level 2 Altitude in feet \n",
        "\n",
        "skyl3: Sky Level 3 Altitude in feet \n",
        "\n",
        "skyl4: Sky Level 4 Altitude in feet \n",
        "\n",
        "wxcodes: Present Weather Codes (space seperated)"
      ]
    },
    {
      "cell_type": "code",
      "metadata": {
        "colab": {
          "base_uri": "https://localhost:8080/"
        },
        "id": "LH2WJcFwVxty",
        "outputId": "24e41073-18e7-4911-94e6-b6eef8849189"
      },
      "source": [
        "print(ithaca.shape)\n",
        "type(ithaca['valid'][1])"
      ],
      "execution_count": 13,
      "outputs": [
        {
          "output_type": "stream",
          "text": [
            "(21481, 29)\n"
          ],
          "name": "stdout"
        },
        {
          "output_type": "execute_result",
          "data": {
            "text/plain": [
              "str"
            ]
          },
          "metadata": {
            "tags": []
          },
          "execution_count": 13
        }
      ]
    },
    {
      "cell_type": "code",
      "metadata": {
        "id": "oy1JMA7cWogT"
      },
      "source": [
        "ithaca_temp = ithaca['valid']\n",
        "for time_stamp in ithaca_temp:\n",
        "  i = 0\n",
        "  #if time_stamp does not end with 56, drop that line"
      ],
      "execution_count": 17,
      "outputs": []
    },
    {
      "cell_type": "code",
      "metadata": {
        "id": "VZIxFoRPX1xy"
      },
      "source": [
        ""
      ],
      "execution_count": null,
      "outputs": []
    }
  ]
}